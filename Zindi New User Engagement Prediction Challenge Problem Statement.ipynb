{
 "cells": [
  {
   "cell_type": "markdown",
   "id": "b903a771",
   "metadata": {},
   "source": [
    "# Zindi New User Engagement Prediction Challenge\n",
    "### Can you predict if a new user will be active for 2 months in a row? "
   ]
  },
  {
   "cell_type": "markdown",
   "id": "5b8449bd",
   "metadata": {},
   "source": [
    "## Description"
   ]
  },
  {
   "cell_type": "markdown",
   "id": "6ae94a03",
   "metadata": {},
   "source": [
    "It’s our birthday, and that means… a Zindi birthday challenge! Once a year we run a challenge for you, our users, using our very own platform data.\n",
    "\n",
    "Zindi is nothing without our users - you are the fuel in the rocket ship, the reason we do what we do. To make sure we are always providing the best possible user experience, we need to know if users will return to Zindi in their second month after signing up. We believe that if a user is constantly active at the start of their Zindi journey, this means that they are seeing value and will stick around. This is a good thing for us and for our users, as an active and healthy community means that we are adding value.\n",
    "\n",
    "The objective of this challenge is to predict if a new user from a selected cohort will engage with Zindi in their second month on the platform. For example, if a user joined in June, will they be active in July?\n",
    "\n",
    "This solution will help us establish and track our performance as a data science community and platform, and make sure that we are best serving the needs of you, our users! Help us make Zindi better for all of you."
   ]
  },
  {
   "cell_type": "markdown",
   "id": "c931e7d9",
   "metadata": {},
   "source": [
    "## Evaluation\n",
    "\n",
    "The error metric for this competition is the F1 score, which ranges from 0 (total failure) to 1 (perfect score). Hence, the closer your score is to 1, the better your model.\n",
    "\n",
    "**F1 Score:** A performance score that combines both precision and recall. It is a harmonic mean of these two variables. Formula is given as: 2*Precision*Recall/(Precision + Recall)\n",
    "\n",
    "**Precision:** This is an indicator of the number of items correctly identified as positive out of total items identified as positive. Formula is given as: TP/(TP+FP)\n",
    "\n",
    "**Recall / Sensitivity / True Positive Rate (TPR):** This is an indicator of the number of items correctly identified as positive out of total actual positives. Formula is given as: TP/(TP+FN)\n",
    "\n",
    "Where:\n",
    "\n",
    "    TP=True Positive\n",
    "\n",
    "    FP=False Positive\n",
    "\n",
    "    TN=True Negative\n",
    "\n",
    "    FN=False Negative\n",
    "\n",
    "This challenge has a rolling leaderboard. This means you will need to constantly build on your model. We will be rolling out new user and competition information each month to simulate a real model development pipeline as you receive new data. The final users you will need to predict for are users created in months 5 and 6.\n",
    "\n",
    "This is an example of what your submission file should look like.\n",
    "\n",
    "Where 1 indicates that the user was active and 0 indicates the user was not active in that month.\n",
    "\n",
    "User_ID_Next_month_Activity    Active   \n",
    "ID_0A7UYURY_Month_3             1\n",
    "ID_0A7UYURY_Month_4             0"
   ]
  },
  {
   "cell_type": "markdown",
   "id": "8fbc9547",
   "metadata": {},
   "source": [
    "## Timeline\n",
    "\n",
    "Competition closes on 12 February 2023.\n",
    "\n",
    "Final submissions must be received by 11:59 PM GMT.\n",
    "\n",
    "We reserve the right to update the contest timeline if necessary."
   ]
  },
  {
   "cell_type": "markdown",
   "id": "ed7af5bf",
   "metadata": {},
   "source": [
    "## Dataset Description"
   ]
  },
  {
   "cell_type": "markdown",
   "id": "8f0c1efe",
   "metadata": {},
   "source": [
    "The data is a subset of Zindi user activity. All variables have been masked to preserve privacy.\n",
    "\n",
    "The objective of this challenge is to predict if a new user from a selected cohort will engage with Zindi in their second month on the platform. For example, if a user joined in January, will they be active in February?\n",
    "\n",
    "Note there is no predefined train set for this challenge, you can create your own using the variables you think are most useful.\n",
    "\n",
    "This challenge has a rolling leaderboard. This means you will need to constantly build on your model. We will be rolling out new user and competition information each month to simulate a real model development pipeline as you receive new data. The final users you will need to predict for are users created in months 5 and 6.\n",
    "\n",
    "- **Blogs.csv** This file contains information on the articles posted on the Learn page.\n",
    "- **Jobs.csv** This file contains information on jobs posted on the Jobs board.\n",
    "- **CompetitionParticipation** This file contains information about users' participation in hackathons and competitions.\n",
    "- **Comments.csv** This file contains information about every comment made, such as which User_ID made the submission and when it was made.\n",
    "- **SampleSubmission.csv** Shows the submission format for this competition. The order of the rows does not matter, but the names of the ‘ID’ must be correct.\n",
    "- **Discussion.csv*** This file contains information about every discussion made, such as which User_ID made the discussion and when it was made.\n",
    "- **Competition.csv** This file contains information about hackathons and competitions.\n",
    "- **UserActivity.csv** This file contains user activity from viewing or clicking on Zindi.\n",
    "- **Users** This file contains information about the users such as when they registered and which country they are from.\n",
    "- **VariableDefinitions** This file explains each variable in each file."
   ]
  },
  {
   "cell_type": "markdown",
   "id": "4db3d5b7",
   "metadata": {},
   "source": []
  }
 ],
 "metadata": {
  "kernelspec": {
   "display_name": "Python 3 (ipykernel)",
   "language": "python",
   "name": "python3"
  },
  "language_info": {
   "codemirror_mode": {
    "name": "ipython",
    "version": 3
   },
   "file_extension": ".py",
   "mimetype": "text/x-python",
   "name": "python",
   "nbconvert_exporter": "python",
   "pygments_lexer": "ipython3",
   "version": "3.9.13"
  }
 },
 "nbformat": 4,
 "nbformat_minor": 5
}
